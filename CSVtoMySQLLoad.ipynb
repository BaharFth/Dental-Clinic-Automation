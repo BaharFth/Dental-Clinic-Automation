{
 "cells": [
  {
   "cell_type": "code",
   "execution_count": 49,
   "id": "73c028a6-8ae2-4f45-81bf-f8c2a274ac65",
   "metadata": {},
   "outputs": [
    {
     "name": "stdout",
     "output_type": "stream",
     "text": [
      "Requirement already satisfied: mysql-connector-python in c:\\users\\bfath\\anaconda3\\lib\\site-packages (9.2.0)\n",
      "Requirement already satisfied: pymysql in c:\\users\\bfath\\anaconda3\\lib\\site-packages (1.1.1)\n",
      "Collecting schedule\n",
      "  Downloading schedule-1.2.2-py3-none-any.whl.metadata (3.8 kB)\n",
      "Downloading schedule-1.2.2-py3-none-any.whl (12 kB)\n",
      "Installing collected packages: schedule\n",
      "Successfully installed schedule-1.2.2\n"
     ]
    }
   ],
   "source": [
    "!pip install mysql-connector-python\n",
    "!pip install pymysql\n",
    "!pip install schedule"
   ]
  },
  {
   "cell_type": "code",
   "execution_count": 50,
   "id": "f068cdca-3bec-460e-88d8-232c38b54076",
   "metadata": {},
   "outputs": [],
   "source": [
    "import pymysql\n",
    "import pandas as pd\n",
    "import os\n",
    "import logging\n",
    "from datetime import datetime\n",
    "import schedule\n",
    "import time"
   ]
  },
  {
   "cell_type": "code",
   "execution_count": 51,
   "id": "808091c5-db73-4242-9949-62dd2a7bdf9c",
   "metadata": {},
   "outputs": [],
   "source": [
    "# MySQL Server Configuration - Update with your credentials\n",
    "DB_CONFIG = {\n",
    "    'host': 'localhost',      # e.g., 'localhost' or '127.0.0.1'\n",
    "    'user': 'root',      # e.g., 'root'\n",
    "    'password': 'Eliana',\n",
    "    'database': 'DentalClinic'  # Change to the database you want to connect to\n",
    "}"
   ]
  },
  {
   "cell_type": "code",
   "execution_count": null,
   "id": "70d83c2f-2a5d-4fb1-bf74-c16b759370a0",
   "metadata": {},
   "outputs": [],
   "source": [
    "csv_file = 'C:\\\\ProgramData\\\\MySQL\\\\MySQL Server 8.0\\\\Uploads\\\\daily_trans.csv'\n",
    "# Configure logging\n",
    "log_file = \"daily_import.log\"\n",
    "logging.basicConfig(filename=log_file, level=logging.INFO, format=\"%(asctime)s - %(message)s\")\n",
    "#Function to import contents of csv file to MySQL table\n",
    "def import_csv_to_mysql():\n",
    "    if not os.path.exists(csv_file):\n",
    "        logging.error(f\"File not found: {csv_file}\")\n",
    "        print(f\"File not found: {csv_file}\")\n",
    "        return\n",
    "    try:\n",
    "        connection = pymysql.connect(**DB_CONFIG)\n",
    "        cursor = connection.cursor()\n",
    "        print(\"Connected to MySQL!\")\n",
    "        # Read the CSV file\n",
    "        df = pd.read_csv(csv_file)\n",
    "        df.columns = df.columns.str.strip()\n",
    "        # Insert data into MySQL\n",
    "        for _, row in df.iterrows():\n",
    "            #print(row)\n",
    "            query = \"\"\"\n",
    "            INSERT INTO daily_transactions \n",
    "            (transaction_date, patient_id, patient_name, service_rendered, amount, payment_method, insurance_provider, status, notes)\n",
    "            VALUES (%s, %s, %s, %s, %s, %s, %s, %s, %s);\n",
    "            \"\"\"\n",
    "            values = (\n",
    "                row[\"transaction_date\"],\n",
    "                row[\"patient_id\"],\n",
    "                row[\"patient_name\"],\n",
    "                row[\"service_rendered\"],\n",
    "                row[\"amount\"],\n",
    "                row[\"payment_method\"] if pd.notna(row[\"payment_method\"]) else \"Cash\",\n",
    "                row[\"insurance_provider\"] if pd.notna(row[\"insurance_provider\"]) else None,\n",
    "                row[\"status\"] if pd.notna(row[\"status\"]) else \"Paid\",\n",
    "                row[\"notes\"] if pd.notna(row[\"notes\"]) else None\n",
    "            )\n",
    "            cursor.execute(query, values)\n",
    "\n",
    "        # Commit and Close Connection\n",
    "        connection.commit()\n",
    "        logging.info(f\"✅ Successfully imported {len(df)} rows from {csv_file}\")\n",
    "        print(f\"✅ Successfully imported {len(df)} rows from {csv_file}\")\n",
    "    except pymysql.MySQLError as e:\n",
    "        logging.error(f\"❌ MySQL Error: {e}\")\n",
    "        print(f\"❌ MySQL Error: {e}\")\n",
    "\n",
    "    finally:\n",
    "        if 'connection' in locals() and connection.open:\n",
    "            cursor.close()\n",
    "            connection.close()\n",
    "            logging.info(\"🔌 MySQL connection closed.\")\n",
    "            print(\"🔌 MySQL connection closed.\")\n",
    "\n",
    "# Run the function\n",
    "if __name__ == \"__main__\":\n",
    "    import_csv_to_mysql()\n",
    "\n",
    "# Schedule the task to run every day at midnight (00:00)\n",
    "schedule.every().day.at(\"00:00\").do(import_csv_to_mysql)\n",
    "\n",
    "print(\"⏳ Scheduled job running. Press Ctrl+C to stop.\")\n",
    "\n",
    "# Keep the script running\n",
    "while True:\n",
    "    schedule.run_pending()\n",
    "    time.sleep(60)  # Check every minute\n",
    "\"\"\"\n",
    "print(\"⏳ Scheduled job running every minute. Press Ctrl+C to stop.\")\n",
    "\n",
    "# Keep the script running\n",
    "while True:\n",
    "    schedule.run_pending()\n",
    "    time.sleep(1)  # Check every second\"\"\"\n",
    "\n",
    "\n",
    "\n",
    "        "
   ]
  },
  {
   "cell_type": "code",
   "execution_count": null,
   "id": "4778c6b3-5e0a-4b27-8f55-c3f213d3f6ab",
   "metadata": {},
   "outputs": [],
   "source": []
  },
  {
   "cell_type": "code",
   "execution_count": null,
   "id": "b38d4cef-d93b-4e56-acf2-def173c9a70e",
   "metadata": {},
   "outputs": [],
   "source": []
  },
  {
   "cell_type": "code",
   "execution_count": null,
   "id": "f32d428a-7164-42ab-bbc6-0aa098399a9d",
   "metadata": {},
   "outputs": [],
   "source": []
  },
  {
   "cell_type": "code",
   "execution_count": null,
   "id": "f99cf064-a479-4be4-a45a-cd4f3beb5d48",
   "metadata": {},
   "outputs": [],
   "source": []
  },
  {
   "cell_type": "code",
   "execution_count": null,
   "id": "7746fe6b-7737-4950-aaa7-a99783bf4d29",
   "metadata": {},
   "outputs": [],
   "source": []
  }
 ],
 "metadata": {
  "kernelspec": {
   "display_name": "Python 3 (ipykernel)",
   "language": "python",
   "name": "python3"
  },
  "language_info": {
   "codemirror_mode": {
    "name": "ipython",
    "version": 3
   },
   "file_extension": ".py",
   "mimetype": "text/x-python",
   "name": "python",
   "nbconvert_exporter": "python",
   "pygments_lexer": "ipython3",
   "version": "3.12.4"
  }
 },
 "nbformat": 4,
 "nbformat_minor": 5
}
